{
 "cells": [
  {
   "cell_type": "markdown",
   "metadata": {},
   "source": [
    "<h1 align=\"center\">Volume 4: Inverse Problems.</h1>\n",
    "\n",
    "    NAME\n",
    "    Section #\n",
    "    DATE"
   ]
  },
  {
   "cell_type": "code",
   "execution_count": null,
   "metadata": {},
   "outputs": [],
   "source": [
    "from math import sqrt, pi\n",
    "import numpy as np\n",
    "from scipy.fftpack import fft, ifft\n",
    "from mpl_toolkits.mplot3d.axes3d import Axes3D\n",
    "import matplotlib.pyplot as plt\n",
    "from matplotlib import cm"
   ]
  },
  {
   "cell_type": "code",
   "execution_count": null,
   "metadata": {},
   "outputs": [],
   "source": [
    "def initialize_all(y0, t0, t1, n):\n",
    "    \"\"\" An initialization routine for the different ODE solving\n",
    "    methods in the lab. This initializes Y, T, and h. \"\"\"\n",
    "    \n",
    "    if isinstance(y0, np.ndarray):\n",
    "        Y = np.empty((n, y0.size),dtype=complex).squeeze()\n",
    "    else:\n",
    "        Y = np.empty(n,dtype=complex)\n",
    "    Y[0] = y0\n",
    "    T = np.linspace(t0, t1, n)\n",
    "    h = float(t1 - t0) / (n - 1)\n",
    "    return Y, T, h\n",
    "\n",
    "def RK4(f, y0, t0, t1, n):\n",
    "    \"\"\" Use the RK4 method to compute an approximate solution\n",
    "    to the ODE y' = f(t, y) at n equispaced parameter values from t0 to t\n",
    "    with initial conditions y(t0) = y0.\n",
    "    \n",
    "    'y0' is assumed to be either a constant or a one-dimensional numpy array.\n",
    "    't0' and 't1' are assumed to be constants.\n",
    "    'f' is assumed to accept two arguments.\n",
    "    The first is a constant giving the current value of t.\n",
    "    The second is a one-dimensional numpy array of the same size as y.\n",
    "    \n",
    "    This function returns an array Y of shape (n,) if\n",
    "    y is a constant or an array of size 1.\n",
    "    It returns an array of shape (n, y.size) otherwise.\n",
    "    In either case, Y[i] is the approximate value of y at\n",
    "    the i'th value of np.linspace(t0, t, n).\n",
    "    \"\"\"\n",
    "    Y, T, h = initialize_all(y0, t0, t1, n)\n",
    "    for i in range(1, n):\n",
    "        K1 = f(T[i-1], Y[i-1])\n",
    "        tplus = (T[i] + T[i-1]) * .5\n",
    "        K2 = f(tplus, Y[i-1] + .5 * h * K1)\n",
    "        K3 = f(tplus, Y[i-1] + .5 * h * K2)\n",
    "        K4 = f(T[i], Y[i-1] + h * K3)\n",
    "        Y[i] = Y[i-1] + (h / 6.) * (K1 + 2 * K2 + 2 * K3 + K4)\n",
    "    return T, Y"
   ]
  },
  {
   "cell_type": "markdown",
   "metadata": {},
   "source": [
    "# Problem 1\n",
    "\n",
    "Run the code above to numerically solve the KdV equation on $[−π, π]$ with initial\n",
    "conditions\n",
    "$$u(x, t = 0) = 3s\\,\\mathrm{sech}^2\n",
    "\\left(\\frac{\\sqrt{s}}{2}(x + a)\\right),$$\n",
    "\n",
    "where $s = 25^2$\n",
    ", $a = 2$. Solve on the time domain $[0, .0075]$. \n",
    "Plot the solution."
   ]
  },
  {
   "cell_type": "code",
   "execution_count": null,
   "metadata": {},
   "outputs": [],
   "source": []
  },
  {
   "cell_type": "markdown",
   "metadata": {},
   "source": [
    "# Problem 2\n",
    "\n",
    "Numerically solve the KdV equation on $[−π, π]$. This time we de\u001c",
    "ne the initial\n",
    "condition to be the superposition of two solitons,\n",
    "$$u(x,t=0) = 3s_1\\mathrm{sech}^2\\left(\\frac{\\sqrt{s_1}}{2}(x+a_1)\\right) + 3s_2\\mathrm{sech}^2\\left(\\frac{\\sqrt{s_2}}{2}(x+a_2)\\right),\n",
    "$$\n",
    "\n",
    "where $s_1 = 25^2$\n",
    ", $a_1 = 2$, and $s_2 = 16^2$\n",
    ", $a_2 = 1$.\n",
    "Solve on the time domain $[0, .0075]$. \n",
    "Plot the solution."
   ]
  },
  {
   "cell_type": "code",
   "execution_count": null,
   "metadata": {},
   "outputs": [],
   "source": []
  },
  {
   "cell_type": "markdown",
   "metadata": {},
   "source": [
    "# Problem 3\n",
    "\n",
    "Consider again equation (19.2). The linear term in this equation is $ik^3Y$ . This\n",
    "term contributes much of the exponential growth in the ODE, and responsible for how short\n",
    "the time step must be to ensure numerical stability. Make the substitution $Z = e^{−ik^3t}Y$ and\n",
    "find a similar ODE for Z. Use the resulting equation to solve the previous problem and plot the solution."
   ]
  },
  {
   "cell_type": "code",
   "execution_count": null,
   "metadata": {},
   "outputs": [],
   "source": []
  }
 ],
 "metadata": {
  "kernelspec": {
   "display_name": "Python 3",
   "language": "python",
   "name": "python3"
  },
  "language_info": {
   "codemirror_mode": {
    "name": "ipython",
    "version": 3
   },
   "file_extension": ".py",
   "mimetype": "text/x-python",
   "name": "python",
   "nbconvert_exporter": "python",
   "pygments_lexer": "ipython3",
   "version": "3.7.9"
  }
 },
 "nbformat": 4,
 "nbformat_minor": 4
}
