{
 "cells": [
  {
   "cell_type": "markdown",
   "metadata": {
    "colab_type": "text",
    "id": "bW431NWpWQvg"
   },
   "source": [
    "# Pandas 3\n",
    "Jonathan Merrill"
   ]
  },
  {
   "cell_type": "code",
   "execution_count": 1,
   "metadata": {
    "colab": {},
    "colab_type": "code",
    "id": "SUIQR8wua0n-"
   },
   "outputs": [],
   "source": [
    "import pandas as pd\n",
    "import numpy as np\n",
    "import matplotlib.pyplot as plt"
   ]
  },
  {
   "cell_type": "code",
   "execution_count": 2,
   "metadata": {
    "colab": {},
    "colab_type": "code",
    "id": "UnY5vviOBe8s"
   },
   "outputs": [],
   "source": [
    "def prob1():\n",
    "    \"\"\"\n",
    "    Use groupby objects to determine information about private\n",
    "    and public universities.\n",
    "    Specifically examine the columns 'S.F.Ratio', 'Top10perc',\n",
    "    and 'Top25perc'.\n",
    "    For each column return the values of the describe function\n",
    "    for the type of university with the higher mean.\n",
    "    \n",
    "    Return:\n",
    "        ans_1 (ndarray): describe array of universities with \n",
    "                         higher S.F.Ratio\n",
    "        ans_2 (ndarray): describe array of universities with\n",
    "                         more students from Top10perc\n",
    "        ans_3 (ndarray): describe array of universities with\n",
    "                         more students from Top25perc\n",
    "    \"\"\"\n",
    "    colleges = pd.read_csv(\"college.csv\")\n",
    "    #groupby whether the university is private or not\n",
    "    private = colleges.groupby(\"Private\")\n",
    "    #get the mean student to faculty ratio and return the stats of the higher one for private and public universities\n",
    "    mean = (private[\"S.F.Ratio\"].mean())\n",
    "    if mean[0] > mean[1]:\n",
    "        SF = private[\"S.F.Ratio\"].describe().values[0]\n",
    "    else: \n",
    "        SF = private[\"S.F.Ratio\"].describe().values[1]\n",
    "        \n",
    "    #get the mean students in the top 10% from their highschool and return the stats of the higher one for private and public universities\n",
    "    mean = (private[\"Top10perc\"].mean())\n",
    "    if mean[0] > mean[1]:\n",
    "        Ten = private[\"Top10perc\"].describe().values[0]\n",
    "    else: \n",
    "        Ten = private[\"Top10perc\"].describe().values[1]\n",
    "        \n",
    "    #get the mean students in the top 25% from their highschool and return the stats of the higher one for private and public universities\n",
    "    mean = (private[\"Top25perc\"].mean())\n",
    "    if mean[0] > mean[1]:\n",
    "        TF = private[\"Top25perc\"].describe().values[0]\n",
    "    else: \n",
    "        TF = private[\"Top25perc\"].describe().values[1]\n",
    "    \n",
    "    return (SF,Ten,TF)"
   ]
  },
  {
   "cell_type": "code",
   "execution_count": 3,
   "metadata": {},
   "outputs": [
    {
     "data": {
      "text/plain": [
       "(array([212.        ,  17.13915094,   3.41804873,   6.7       ,\n",
       "         15.1       ,  17.25      ,  19.325     ,  28.8       ]),\n",
       " array([565.        ,  29.33097345,  17.85139147,   1.        ,\n",
       "         17.        ,  25.        ,  36.        ,  96.        ]),\n",
       " array([565.        ,  56.95752212,  19.58836048,   9.        ,\n",
       "         42.        ,  55.        ,  70.        , 100.        ]))"
      ]
     },
     "execution_count": 3,
     "metadata": {},
     "output_type": "execute_result"
    }
   ],
   "source": [
    "prob1()"
   ]
  },
  {
   "cell_type": "code",
   "execution_count": 4,
   "metadata": {
    "colab": {},
    "colab_type": "code",
    "id": "21bBA9dzCNxc"
   },
   "outputs": [],
   "source": [
    "def prob2():\n",
    "    \"\"\"\n",
    "    Use groupby visualizations to compare the following\n",
    "    in private and public universities:\n",
    "        1. Number of applicants, accept applicants, and\n",
    "           enrolled applicants\n",
    "        2. Range of price for room and board\n",
    "    \"\"\"\n",
    "    colleges = pd.read_csv(\"college.csv\")\n",
    "    #Group by public and private universities\n",
    "    private = colleges.groupby(\"Private\")\n",
    "    #create a graph that compares enrollment, accepted students and applicants of public and pricate universities\n",
    "    private[['Apps','Accept','Enroll']].mean().plot(kind=\"barh\",title = \"Comparison of Applicants, Accepted Students, and Enrollment between Public and Private Universities in US universities in 1995\")\n",
    "    plt.xlabel(\"Number of Students\")\n",
    "    plt.legend()\n",
    "    \n",
    "    #Create a box plot to compare room and board prices between public and private universities\n",
    "    colleges.boxplot(\"Room.Board\", by=\"Private\",grid=False)\n",
    "    plt.title(\"Comparison of Room and Board Between Public and Private Universities in the US in 1995\")\n",
    "    plt.suptitle('')\n",
    "    plt.tight_layout()\n",
    "    plt.ylabel(\"Room and Board Costs\")\n",
    "    plt.show()"
   ]
  },
  {
   "cell_type": "code",
   "execution_count": 5,
   "metadata": {},
   "outputs": [
    {
     "name": "stderr",
     "output_type": "stream",
     "text": [
      "C:\\Users\\rober\\anaconda3\\lib\\site-packages\\numpy\\core\\_asarray.py:102: VisibleDeprecationWarning: Creating an ndarray from ragged nested sequences (which is a list-or-tuple of lists-or-tuples-or ndarrays with different lengths or shapes) is deprecated. If you meant to do this, you must specify 'dtype=object' when creating the ndarray.\n",
      "  return array(a, dtype, copy=False, order=order)\n"
     ]
    },
    {
     "data": {
      "image/png": "[encoded data removed]",
      "text/plain": [
       "<Figure size 432x288 with 1 Axes>"
      ]
     },
     "metadata": {
      "needs_background": "light"
     },
     "output_type": "display_data"
    },
    {
     "data": {
      "image/png": "[encoded data removed]",
      "text/plain": [
       "<Figure size 432x288 with 1 Axes>"
      ]
     },
     "metadata": {
      "needs_background": "light"
     },
     "output_type": "display_data"
    }
   ],
   "source": [
    "prob2()"
   ]
  },
  {
   "cell_type": "code",
   "execution_count": 6,
   "metadata": {
    "colab": {},
    "colab_type": "code",
    "id": "Qs3BS0NKRgo1"
   },
   "outputs": [],
   "source": [
    "def prob3():\n",
    "    \"\"\"\n",
    "    Use Ohio_1999.csv and pivot tables to answer the\n",
    "    following questions\n",
    "        1. Which race/sex combination makes the most money in total?\n",
    "        2. Which race/sex combination worked the least amount of \n",
    "            cumulative hours?\n",
    "        3. What race/sex combination worked the most hours per week per person?\n",
    "    \n",
    "    Returns:\n",
    "        ans_1 (tuple): tuple with race and sex code, respectively\n",
    "        ans_2 (tuple): tuple with race and sex code, respectively\n",
    "        ans_3 (tuple): tuple with race and sex code, respectively\n",
    "    \"\"\"\n",
    "    Ohio = pd.read_csv(\"Ohio_1999.csv\")\n",
    "    #highest usual weekly earnings\n",
    "    UWE = Ohio.pivot_table(values='Usual Weekly Earnings', index = \"Race\", columns = 'Sex',aggfunc = 'sum')\n",
    "    sex0 = np.argmax(UWE.values)%UWE.shape[1] + 1\n",
    "    race0 = int(np.argmax(UWE.values)/UWE.shape[1]) + 1\n",
    "    \n",
    "    #lowest cumulative usual hours worked\n",
    "    LCHW = Ohio.pivot_table(values='Usual Hours Worked', index = \"Race\", columns = 'Sex', aggfunc = 'sum')\n",
    "    sex1 = np.argmax(LCHW.values)%LCHW.shape[1] + 1\n",
    "    race1 = int(np.argmax(LCHW.values)/LCHW.shape[1]) + 1\n",
    "    \n",
    "    #Highest average usual hours worked\n",
    "    HAHW = Ohio.pivot_table(values='Usual Hours Worked', index = \"Race\", columns = 'Sex', aggfunc = 'mean')\n",
    "    sex2 = np.argmax(HAHW.values)%HAHW.shape[1] + 1\n",
    "    race2 = int(np.argmax(HAHW.values)/HAHW.shape[1]) + 1\n",
    "    \n",
    "    print(\"The First Element of the Tuple Represents Race, Where: \")\n",
    "    print(\"{1: White, 2: African-American, 3: Native American/Eskimo, 4: Asian} \")\n",
    "    print(\"The Second Element of the Tuple Represents Sex, Where: \")\n",
    "    print(\"{1: male, 2: female} \")\n",
    "    return (race0,sex0),(race1,sex1),(race2,sex2)\n",
    "    #raise NotImplementedError(\"Problem 3 Incomplete\")"
   ]
  },
  {
   "cell_type": "code",
   "execution_count": 7,
   "metadata": {},
   "outputs": [
    {
     "name": "stdout",
     "output_type": "stream",
     "text": [
      "The First Element of the Tuple Represents Race, Where: \n",
      "{1: White, 2: African-American, 3: Native American/Eskimo, 4: Asian} \n",
      "The Second Element of the Tuple Represents Sex, Where: \n",
      "{1: male, 2: female} \n"
     ]
    },
    {
     "data": {
      "text/plain": [
       "((1, 1), (1, 1), (3, 1))"
      ]
     },
     "execution_count": 7,
     "metadata": {},
     "output_type": "execute_result"
    }
   ],
   "source": [
    "prob3()"
   ]
  },
  {
   "cell_type": "code",
   "execution_count": 8,
   "metadata": {
    "colab": {},
    "colab_type": "code",
    "id": "in76s4x5iAX9"
   },
   "outputs": [],
   "source": [
    "def prob4():\n",
    "    \"\"\"\n",
    "    Use Ohio_1999.csv to answer the following questions:\n",
    "        1. What is the most common degree among workers?\n",
    "        2. Which age group works the most hours on average?\n",
    "        3. What age/degree combination has the smallest yearly\n",
    "           salary on average?\n",
    "    \n",
    "    Return:\n",
    "        ans_1 (Interval): degree interval\n",
    "        ans_2 (Interval): age interval\n",
    "        ans_3 (Interval, Interval): age interval and degree interval\n",
    "    \"\"\"\n",
    "    Ohio = pd.read_csv(\"Ohio_1999.csv\")\n",
    "    #cutting the values by educational attainment at 39,42,43,and 46\n",
    "    education = pd.cut(Ohio['Educational Attainment'],[0,39,42,43,46])\n",
    "    #make a pivot table with just the educational attainment seperated by degree level\n",
    "    print(Ohio.pivot_table(index = [education],aggfunc = 'count').values[:,0])\n",
    "    print(\"The highest count from the splits of Educational Attainment was from the first one which represented those who do not have any form of degree.\")\n",
    "    print('\\n')\n",
    "    \n",
    "    #cut/partition by age\n",
    "    Age = pd.qcut(Ohio['Age'],6)\n",
    "    #create a pivot table with age and usual hours worked\n",
    "    print(Ohio.pivot_table(values = 'Usual Hours Worked',index = [Age], aggfunc = 'mean'))\n",
    "    print(\"\\n We can see that the highest Usual Hours Worked is from those age 40 - 46 \\n \\n\")\n",
    "    \n",
    "    #create a pivot table with yearly salary, age, and degree attained\n",
    "    print(Ohio.pivot_table(values = 'Yearly Salary', index = [education], columns = Age, aggfunc = 'mean'))\n",
    "    print(\"\\n We can thus see that the Age/Degree Combination with the lowest yearly salary is those from age 16-29 with no degree.\")\n",
    "    \n",
    "    return ([0,39],[40,46],([16,29],[0,39]))\n",
    "    #raise NotImplementedError(\"Problem 4 Incomplete\")"
   ]
  },
  {
   "cell_type": "code",
   "execution_count": 9,
   "metadata": {},
   "outputs": [
    {
     "name": "stdout",
     "output_type": "stream",
     "text": [
      "[693 362 352 178]\n",
      "The highest count from the splits of Educational Attainment was from the first one which represented those who do not have any form of degree.\n",
      "\n",
      "\n",
      "                Usual Hours Worked\n",
      "Age                               \n",
      "(15.999, 29.0]           41.188552\n",
      "(29.0, 35.0]             42.565693\n",
      "(35.0, 40.0]             42.468619\n",
      "(40.0, 46.0]             42.586614\n",
      "(46.0, 52.0]             42.010381\n",
      "(52.0, 85.0]             40.375000\n",
      "\n",
      " We can see that the highest Usual Hours Worked is from those age 40 - 46 \n",
      " \n",
      "\n",
      "Age                     (15.999, 29.0]  (29.0, 35.0]  (35.0, 40.0]  \\\n",
      "Educational Attainment                                               \n",
      "(0, 39]                   21786.971631  28561.619048  28975.969388   \n",
      "(39, 42]                  24352.868421  32831.758621  38146.573770   \n",
      "(42, 43]                  29277.314286  49246.474359  54804.461538   \n",
      "(43, 46]                  43480.000000  60918.848485  83135.464286   \n",
      "\n",
      "Age                      (40.0, 46.0]  (46.0, 52.0]  (52.0, 85.0]  \n",
      "Educational Attainment                                             \n",
      "(0, 39]                  31544.605263  28209.722689  30710.844828  \n",
      "(39, 42]                 35035.566667  44690.508197  43906.086957  \n",
      "(42, 43]                 47351.176471  56523.681818  60494.542857  \n",
      "(43, 46]                100270.758621  69557.651163  98568.742857  \n",
      "\n",
      " We can thus see that the Age/Degree Combination with the lowest yearly salary is those from age 16-29 with no degree.\n"
     ]
    },
    {
     "data": {
      "text/plain": [
       "([0, 39], [40, 46], ([16, 29], [0, 39]))"
      ]
     },
     "execution_count": 9,
     "metadata": {},
     "output_type": "execute_result"
    }
   ],
   "source": [
    "prob4()"
   ]
  },
  {
   "cell_type": "code",
   "execution_count": 34,
   "metadata": {
    "colab": {},
    "colab_type": "code",
    "id": "I8vUMUB4fjHR"
   },
   "outputs": [],
   "source": [
    "def prob5():\n",
    "    \"\"\"\n",
    "    Use pivot tables and groupby objects on the data in\n",
    "    College.csv to answer the following questions:\n",
    "        1. Is there a correlation between the percent of alumni\n",
    "           that donate and the amount the school spends per\n",
    "           student in both private and public universities?\n",
    "        2. Is the graduation rate partition with the greatest\n",
    "           number of schools the same for private and public\n",
    "           universities?\n",
    "        3. Is there an inverse correlation between acceptance\n",
    "           rate and having students from the top 10% of their\n",
    "           high school class?\n",
    "        4. Why is the average percentage of students admitted\n",
    "           from the top 10 percent of their high school class\n",
    "           so high in private universities with very low\n",
    "           acceptance rates? Use only the data to explain why; \n",
    "           do not extrapolate.\n",
    "    \n",
    "    Returns:\n",
    "        ans_1 (bool): answer to question 1\n",
    "        ans_2 (bool): answer to question 2\n",
    "        ans_3 (bool): answer to question 3\n",
    "        ans_4 (str): answer to question 4\n",
    "    \"\"\"\n",
    "    colleges = pd.read_csv(\"college.csv\")\n",
    "    #part 1\n",
    "    colleges.plot(kind = 'hexbin', x = 'perc.alumni', y = 'Expend', gridsize = 13)\n",
    "    plt.show()\n",
    "    \n",
    "    #part 2\n",
    "    private = colleges.groupby(\"Private\")\n",
    "    print(\"We can thus see there is no correlation between percent of alumni that donate and how much the school spends on students. .\")\n",
    "    #partition\n",
    "    Grate = pd.qcut(colleges['Grad.Rate'],5)\n",
    "    print(colleges.pivot_table(index = [Grate], columns = 'Private', aggfunc = 'mean'))\n",
    "    print(\"\\n We can thus see that the graduation rate partition with the highest values is different in public and private schools.\")\n",
    "    \n",
    "    #part 3\n",
    "    Arate = pd.qcut(colleges['Accept'],5)\n",
    "    print(colleges.pivot_table(values = 'Top10perc', index = Arate, columns = 'Private', aggfunc = 'mean'))\n",
    "    print('\\n We can thus see that there is a correlation between public and private universities and having a lower acceptance rate and having more students from the top 10 percent of their high school class')\n",
    "    answer = 'There is a negative correlation between the variables, so it follows that a private university with a low acceptance rate will have a high percentage of students from the top 10 percent of their high school.'\n",
    "    return False,False,True,answer\n",
    "    #raise NotImplementedError(\"Problem 5 Incomplete\")"
   ]
  },
  {
   "cell_type": "code",
   "execution_count": 35,
   "metadata": {
    "scrolled": true
   },
   "outputs": [
    {
     "data": {
      "image/png": "[encoded data removed]",
      "text/plain": [
       "<Figure size 432x288 with 2 Axes>"
      ]
     },
     "metadata": {
      "needs_background": "light"
     },
     "output_type": "display_data"
    },
    {
     "name": "stdout",
     "output_type": "stream",
     "text": [
      "We can thus see there is no correlation between percent of alumni that donate and how much the school spends on students. .\n",
      "                    Accept                       Apps               \\\n",
      "Private                 No          Yes            No          Yes   \n",
      "Grad.Rate                                                            \n",
      "(9.999, 51.0]  2315.349398   866.051282   3189.867470  1138.615385   \n",
      "(51.0, 61.0]   3651.553571   767.010204   5284.089286   979.336735   \n",
      "(61.0, 70.0]   5791.925000  1319.442623   8048.875000  1782.540984   \n",
      "(70.0, 81.0]   6808.869565  1453.705426  10720.347826  1982.062016   \n",
      "(81.0, 118.0]  4594.700000  1786.253623   8555.200000  3330.340580   \n",
      "\n",
      "                    Books                   Enroll                   Expend  \\\n",
      "Private                No         Yes           No         Yes           No   \n",
      "Grad.Rate                                                                     \n",
      "(9.999, 51.0]  559.144578  582.423077  1153.987952  364.205128  6835.963855   \n",
      "(51.0, 61.0]   546.696429  541.367347  1559.535714  288.959184  7127.571429   \n",
      "(61.0, 70.0]   562.950000  527.172131  2311.975000  445.147541  8084.475000   \n",
      "(70.0, 81.0]   570.434783  520.558140  2267.347826  479.806202  8618.043478   \n",
      "(81.0, 118.0]  486.600000  575.297101  2012.200000  617.717391  9304.000000   \n",
      "\n",
      "                             ...  S.F.Ratio              Terminal             \\\n",
      "Private                 Yes  ...         No        Yes         No        Yes   \n",
      "Grad.Rate                    ...                                               \n",
      "(9.999, 51.0]   8396.333333  ...  17.134940  14.161538  81.180723  67.487179   \n",
      "(51.0, 61.0]    8596.785714  ...  17.876786  13.307143  81.017857  70.602041   \n",
      "(61.0, 70.0]    9385.721311  ...  17.352500  13.227049  85.825000  79.467213   \n",
      "(70.0, 81.0]   10533.860465  ...  16.030435  12.825581  86.913043  82.976744   \n",
      "(81.0, 118.0]  13938.152174  ...  14.740000  11.864493  85.000000  85.434783   \n",
      "\n",
      "               Top10perc             Top25perc            perc.alumni  \\\n",
      "Private               No        Yes         No        Yes          No   \n",
      "Grad.Rate                                                               \n",
      "(9.999, 51.0]  17.096386  16.871795  44.385542  40.897436   11.397590   \n",
      "(51.0, 61.0]   19.732143  22.265306  50.910714  48.785714   15.285714   \n",
      "(61.0, 70.0]   27.575000  27.426230  59.950000  56.180328   16.300000   \n",
      "(70.0, 81.0]   32.956522  30.100775  66.347826  59.465116   15.913043   \n",
      "(81.0, 118.0]  45.600000  42.355072  71.400000  70.181159   22.400000   \n",
      "\n",
      "                          \n",
      "Private              Yes  \n",
      "Grad.Rate                 \n",
      "(9.999, 51.0]  17.923077  \n",
      "(51.0, 61.0]   20.897959  \n",
      "(61.0, 70.0]   23.704918  \n",
      "(70.0, 81.0]   29.333333  \n",
      "(81.0, 118.0]  32.652174  \n",
      "\n",
      "[5 rows x 34 columns]\n",
      "\n",
      " We can thus see that the graduation rate partition with the highest values is different in public and private schools.\n",
      "Private                   No        Yes\n",
      "Accept                                 \n",
      "(71.999, 514.0]    12.500000  19.408163\n",
      "(514.0, 885.6]     25.076923  26.035461\n",
      "(885.6, 1515.6]    15.034483  31.523810\n",
      "(1515.6, 2896.2]   18.396226  39.421569\n",
      "(2896.2, 26330.0]  27.841121  41.938776\n",
      "\n",
      " We can thus see that there is a correlation between public and private universities and having a lower acceptance rate and having more students from the top 10 percent of their high school class\n"
     ]
    },
    {
     "data": {
      "text/plain": [
       "(False, False, True)"
      ]
     },
     "execution_count": 35,
     "metadata": {},
     "output_type": "execute_result"
    }
   ],
   "source": [
    "prob5()"
   ]
  }
 ],
 "metadata": {
  "colab": {
   "collapsed_sections": [],
   "name": "pandas3.ipynb",
   "provenance": [],
   "version": "0.3.2"
  },
  "kernelspec": {
   "display_name": "Python 3",
   "language": "python",
   "name": "python3"
  },
  "language_info": {
   "codemirror_mode": {
    "name": "ipython",
    "version": 3
   },
   "file_extension": ".py",
   "mimetype": "text/x-python",
   "name": "python",
   "nbconvert_exporter": "python",
   "pygments_lexer": "ipython3",
   "version": "3.8.3"
  }
 },
 "nbformat": 4,
 "nbformat_minor": 1
}
